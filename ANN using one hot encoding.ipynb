{
 "cells": [
  {
   "cell_type": "code",
   "execution_count": 1,
   "id": "2312b7a2",
   "metadata": {},
   "outputs": [],
   "source": [
    "import pandas as pd\n",
    "import numpy as np\n",
    "import tensorflow as tf\n",
    "from tensorflow import keras\n",
    "import matplotlib.pyplot as plt\n",
    "%matplotlib inline"
   ]
  },
  {
   "cell_type": "code",
   "execution_count": 2,
   "id": "24b86418",
   "metadata": {},
   "outputs": [],
   "source": [
    "(x_train,y_train),(x_test,y_test) = tf.keras.datasets.cifar10.load_data()"
   ]
  },
  {
   "cell_type": "code",
   "execution_count": 3,
   "id": "cddae1df",
   "metadata": {},
   "outputs": [
    {
     "data": {
      "text/plain": [
       "(50000, 32, 32, 3)"
      ]
     },
     "execution_count": 3,
     "metadata": {},
     "output_type": "execute_result"
    }
   ],
   "source": [
    "x_train.shape"
   ]
  },
  {
   "cell_type": "code",
   "execution_count": 4,
   "id": "54b8699f",
   "metadata": {},
   "outputs": [
    {
     "data": {
      "text/plain": [
       "(50000, 1)"
      ]
     },
     "execution_count": 4,
     "metadata": {},
     "output_type": "execute_result"
    }
   ],
   "source": [
    "y_train.shape"
   ]
  },
  {
   "cell_type": "code",
   "execution_count": 5,
   "id": "6662400e",
   "metadata": {},
   "outputs": [
    {
     "data": {
      "text/plain": [
       "array([[6],\n",
       "       [9],\n",
       "       [9],\n",
       "       [4],\n",
       "       [1]], dtype=uint8)"
      ]
     },
     "execution_count": 5,
     "metadata": {},
     "output_type": "execute_result"
    }
   ],
   "source": [
    "y_train[0:5]"
   ]
  },
  {
   "cell_type": "code",
   "execution_count": 6,
   "id": "e53044d0",
   "metadata": {},
   "outputs": [
    {
     "data": {
      "text/plain": [
       "<matplotlib.image.AxesImage at 0x1af794a6850>"
      ]
     },
     "execution_count": 6,
     "metadata": {},
     "output_type": "execute_result"
    },
    {
     "data": {
      "image/png": "[encoded data removed]",
      "text/plain": [
       "<Figure size 288x288 with 1 Axes>"
      ]
     },
     "metadata": {
      "needs_background": "light"
     },
     "output_type": "display_data"
    }
   ],
   "source": [
    "plt.matshow(x_train[18])"
   ]
  },
  {
   "cell_type": "code",
   "execution_count": 7,
   "id": "c309487c",
   "metadata": {},
   "outputs": [],
   "source": [
    "classes = [\"airplane\",\"automobile\",\"bird\",\"cat\",\"deer\",\"dog\",\"frog\",\"horse\",\"ship\",\"truck\"]"
   ]
  },
  {
   "cell_type": "code",
   "execution_count": 8,
   "id": "20ef0750",
   "metadata": {},
   "outputs": [
    {
     "data": {
      "text/plain": [
       "'bird'"
      ]
     },
     "execution_count": 8,
     "metadata": {},
     "output_type": "execute_result"
    }
   ],
   "source": [
    "classes[y_train[18][0]]"
   ]
  },
  {
   "cell_type": "code",
   "execution_count": 9,
   "id": "32a607ce",
   "metadata": {},
   "outputs": [],
   "source": [
    "x_train_f = (x_train)/255\n",
    "x_test_f = (x_test)/255"
   ]
  },
  {
   "cell_type": "code",
   "execution_count": 10,
   "id": "6119175e",
   "metadata": {},
   "outputs": [],
   "source": [
    "y_train_categorical = keras.utils.to_categorical(\n",
    "    y_train, num_classes=10, dtype='float32'\n",
    ")\n",
    "y_test_categorical = keras.utils.to_categorical(\n",
    "    y_test, num_classes=10, dtype='float32'\n",
    ")"
   ]
  },
  {
   "cell_type": "code",
   "execution_count": 14,
   "id": "b11a688f",
   "metadata": {},
   "outputs": [
    {
     "name": "stdout",
     "output_type": "stream",
     "text": [
      "Epoch 1/20\n",
      "1563/1563 [==============================] - 58s 26ms/step - loss: 1.8505 - accuracy: 0.3397\n",
      "Epoch 2/20\n",
      "1563/1563 [==============================] - 41s 26ms/step - loss: 1.6744 - accuracy: 0.4127\n",
      "Epoch 3/20\n",
      "1563/1563 [==============================] - 40s 26ms/step - loss: 1.5970 - accuracy: 0.4392\n",
      "Epoch 4/20\n",
      "1563/1563 [==============================] - 40s 26ms/step - loss: 1.5440 - accuracy: 0.4585\n",
      "Epoch 5/20\n",
      "1563/1563 [==============================] - 41s 26ms/step - loss: 1.5007 - accuracy: 0.4733\n",
      "Epoch 6/20\n",
      "1563/1563 [==============================] - 38s 24ms/step - loss: 1.4635 - accuracy: 0.4904\n",
      "Epoch 7/20\n",
      "1563/1563 [==============================] - 40s 25ms/step - loss: 1.4322 - accuracy: 0.4995\n",
      "Epoch 8/20\n",
      "1563/1563 [==============================] - 40s 26ms/step - loss: 1.4026 - accuracy: 0.5098\n",
      "Epoch 9/20\n",
      "1563/1563 [==============================] - 41s 26ms/step - loss: 1.3780 - accuracy: 0.5191\n",
      "Epoch 10/20\n",
      "1563/1563 [==============================] - 40s 26ms/step - loss: 1.3556 - accuracy: 0.5272\n",
      "Epoch 11/20\n",
      "1563/1563 [==============================] - 42s 27ms/step - loss: 1.3360 - accuracy: 0.5334\n",
      "Epoch 12/20\n",
      "1563/1563 [==============================] - 41s 26ms/step - loss: 1.3123 - accuracy: 0.5404\n",
      "Epoch 13/20\n",
      "1563/1563 [==============================] - 42s 27ms/step - loss: 1.2943 - accuracy: 0.5485\n",
      "Epoch 14/20\n",
      "1563/1563 [==============================] - 40s 25ms/step - loss: 1.2768 - accuracy: 0.5558\n",
      "Epoch 15/20\n",
      "1563/1563 [==============================] - 40s 26ms/step - loss: 1.2577 - accuracy: 0.5612\n",
      "Epoch 16/20\n",
      "1563/1563 [==============================] - 40s 25ms/step - loss: 1.2407 - accuracy: 0.5683\n",
      "Epoch 17/20\n",
      "1563/1563 [==============================] - 40s 25ms/step - loss: 1.2252 - accuracy: 0.5733\n",
      "Epoch 18/20\n",
      "1563/1563 [==============================] - 40s 26ms/step - loss: 1.2073 - accuracy: 0.5806\n",
      "Epoch 19/20\n",
      "1563/1563 [==============================] - 40s 26ms/step - loss: 1.1933 - accuracy: 0.5807\n",
      "Epoch 20/20\n",
      "1563/1563 [==============================] - 40s 26ms/step - loss: 1.1780 - accuracy: 0.5909\n"
     ]
    },
    {
     "data": {
      "text/plain": [
       "<keras.callbacks.History at 0x1af7b6ee3d0>"
      ]
     },
     "execution_count": 14,
     "metadata": {},
     "output_type": "execute_result"
    }
   ],
   "source": [
    "model = keras.Sequential([\n",
    "        keras.layers.Flatten(input_shape=(32,32,3)),\n",
    "        #keras.layers.Dense(3000, activation='relu'),\n",
    "        keras.layers.Dense(1000, activation='relu'),\n",
    "        keras.layers.Dense(10, activation='sigmoid')    \n",
    "    ])\n",
    "\n",
    "model.compile(optimizer='SGD',\n",
    "              loss='categorical_crossentropy',\n",
    "              metrics=['accuracy'])\n",
    "\n",
    "model.fit(x_train_f, y_train_categorical, epochs=20)"
   ]
  },
  {
   "cell_type": "code",
   "execution_count": null,
   "id": "bae2af2c",
   "metadata": {},
   "outputs": [],
   "source": []
  }
 ],
 "metadata": {
  "kernelspec": {
   "display_name": "Python 3 (ipykernel)",
   "language": "python",
   "name": "python3"
  },
  "language_info": {
   "codemirror_mode": {
    "name": "ipython",
    "version": 3
   },
   "file_extension": ".py",
   "mimetype": "text/x-python",
   "name": "python",
   "nbconvert_exporter": "python",
   "pygments_lexer": "ipython3",
   "version": "3.9.12"
  }
 },
 "nbformat": 4,
 "nbformat_minor": 5
}
